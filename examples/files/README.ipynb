{
 "cells": [
  {
   "cell_type": "markdown",
   "metadata": {},
   "source": [
    "# jupyterlite-pyodide-lock demo\n",
    "\n",
    "This demo shows some of the interactive features of `jupyterlite-pyodide-lock`."
   ]
  },
  {
   "cell_type": "markdown",
   "metadata": {},
   "source": [
    "## no `%pip` needed\n",
    "\n",
    "As with `piplite`, the default package management approach for `jupyterlite-pyodide-kernel`, site owners can include custom wheels, or rely on runtime installation.\n",
    "\n",
    "However, packages indexed by `piplite` _still_ require the `%pip` magic.\n",
    "\n",
    "> _This is needed because there's no way to know how an `import`able name maps to a distribution name, much less a version, on PyPI, the Python Package Index._\n",
    "\n",
    "With `jupyterlite-pyodide-lock`, packages that have been _locked_ ahead of time are available as if they had already been installed."
   ]
  },
  {
   "cell_type": "code",
   "execution_count": null,
   "metadata": {},
   "outputs": [],
   "source": [
    "import ipywidgets\n",
    "print(ipywidgets.__version__)\n",
    "ipywidgets.FloatSlider()"
   ]
  },
  {
   "cell_type": "markdown",
   "metadata": {},
   "source": [
    "## preloaded (not imported) packages"
   ]
  },
  {
   "cell_type": "markdown",
   "metadata": {},
   "source": [
    "`pyodide_kernel`, the `ipykernel` shim, `ipython`, and all their further dependencies were _downloaded_, _cached_, and _installed_ while this `pyodide` virtual machine was initializing. \n",
    "\n",
    "> _This behavior can be extended to custom importable names with `PyodideLockAddon.extra_preload_packages`_\n",
    "\n",
    "However, only the **absolute minimum** number of packages will be _imported_ before providing a site visitor an interactive computing experience."
   ]
  },
  {
   "cell_type": "markdown",
   "metadata": {},
   "source": [
    "## more reproducible\n",
    "\n",
    "After being locked, packages will load the same way for every site visitor. This helps the site provides with the intended experience.\n",
    "\n",
    "> _Future work may include setting a build-time `SOURCE_DATE_EPOCH`-style ceiling for downloaded packages, so that even _future_ builds don't unintentionally introduce unexpected incompatibilities, even while content can be revised and redployed._"
   ]
  },
  {
   "cell_type": "markdown",
   "metadata": {},
   "source": [
    "## `%pip` is still available\n",
    "\n",
    "Using the `%pip` magic will still work (in a portable way) meaning interactive exploration of the thousands of packages on PyPI are still possible in a form that can be downloaded or moved to a \"standard\" installation like MyBinder.\n",
    "\n",
    "Any pure python package can still be installed and imported, as long as all of its dependencies are either _also_ pure python, included in the lock file, or have been built for `pyodide`."
   ]
  },
  {
   "cell_type": "code",
   "execution_count": null,
   "metadata": {},
   "outputs": [],
   "source": [
    "%pip install traittypes\n",
    "import traittypes\n",
    "traittypes.__version__"
   ]
  }
 ],
 "metadata": {
  "kernelspec": {
   "display_name": "Python 3 (ipykernel)",
   "language": "python",
   "name": "python3"
  },
  "language_info": {
   "codemirror_mode": {
    "name": "ipython",
    "version": 3
   },
   "file_extension": ".py",
   "mimetype": "text/x-python",
   "name": "python",
   "nbconvert_exporter": "python",
   "pygments_lexer": "ipython3",
   "version": "3.12.2"
  }
 },
 "nbformat": 4,
 "nbformat_minor": 4
}
