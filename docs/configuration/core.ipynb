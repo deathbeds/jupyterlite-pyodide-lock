{
 "cells": [
  {
   "cell_type": "markdown",
   "id": "45387a7d-960c-43a8-97cb-16e84d4af375",
   "metadata": {
    "editable": true,
    "slideshow": {
     "slide_type": ""
    },
    "tags": []
   },
   "source": [
    "# `jupyterlite-pyodide-lock`\n",
    "\n",
    "The features of `jupyterlite-pyodide-lock` are be configured along with\n",
    "other JupyterLite features in a site's `jupyter_lite_config.json`."
   ]
  },
  {
   "cell_type": "code",
   "execution_count": null,
   "id": "984659f3-83c0-4405-bbc8-62fdd5e32c86",
   "metadata": {
    "editable": true,
    "slideshow": {
     "slide_type": ""
    },
    "tags": [
     "remove-cell"
    ]
   },
   "outputs": [],
   "source": [
    "import json\n",
    "\n",
    "import traitlets\n",
    "from IPython.display import HTML\n",
    "from jupyterlite_core.trait_types import TypedTuple\n",
    "from nbconvert.filters.markdown_mistune import markdown2html_mistune\n",
    "from traitlets.config import Configurable"
   ]
  },
  {
   "cell_type": "code",
   "execution_count": null,
   "id": "380bfe30-bb71-498b-a28c-d0bf972f2558",
   "metadata": {
    "editable": true,
    "slideshow": {
     "slide_type": ""
    },
    "tags": [
     "remove-cell"
    ]
   },
   "outputs": [],
   "source": [
    "TArrayish = traitlets.List | traitlets.Tuple | TypedTuple\n",
    "TNumberish = traitlets.CInt | traitlets.Int | traitlets.Float"
   ]
  },
  {
   "cell_type": "code",
   "execution_count": null,
   "id": "f7335f8b-b7b7-4c6f-b3b1-b9b62675e1fb",
   "metadata": {
    "editable": true,
    "slideshow": {
     "slide_type": ""
    },
    "tags": [
     "remove-cell"
    ]
   },
   "outputs": [],
   "source": [
    "def markdown(md: str) -> HTML:\n",
    "    \"\"\"Generate some HTML.\"\"\"\n",
    "    return HTML(markdown2html_mistune(md))"
   ]
  },
  {
   "cell_type": "code",
   "execution_count": null,
   "id": "399e2d29-a206-40de-b61f-e6397d3b01ec",
   "metadata": {
    "editable": true,
    "slideshow": {
     "slide_type": ""
    },
    "tags": [
     "remove-cell"
    ]
   },
   "outputs": [],
   "source": [
    "def trait_to_json_type(trait: traitlets.TraitType) -> list[str]:\n",
    "    \"\"\"Extract a simplified JSON type from a trait.\"\"\"\n",
    "    json_type = \"\"\n",
    "    item_type = \"\"\n",
    "    if isinstance(trait, TArrayish):\n",
    "        json_type = \"array\"\n",
    "        item_type = trait_to_json_type(trait._trait)[0]  # noqa: SLF001\n",
    "    elif isinstance(trait, traitlets.Enum):\n",
    "        return \"string\", \" <br/> \".join(f\"`{v}`\" for v in trait.values)\n",
    "    elif isinstance(trait, traitlets.Bool):\n",
    "        json_type = \"boolean\"\n",
    "    elif isinstance(trait, traitlets.Unicode):\n",
    "        json_type = \"string\"\n",
    "    elif isinstance(trait, TNumberish):\n",
    "        json_type = \"number\"\n",
    "    elif isinstance(trait, traitlets.Dict):\n",
    "        json_type = \"object\"\n",
    "    else:\n",
    "        msg = f\"unexpected trait {trait}\"\n",
    "        raise ValueError(msg)\n",
    "    return json_type, item_type"
   ]
  },
  {
   "cell_type": "code",
   "execution_count": null,
   "id": "49a76362-02a7-4804-a21a-1c578ea839ba",
   "metadata": {
    "editable": true,
    "slideshow": {
     "slide_type": ""
    },
    "tags": [
     "remove-cell"
    ]
   },
   "outputs": [],
   "source": [
    "def trait_to_json_type_and_default(trait: traitlets.TraitType) -> list[str]:\n",
    "    \"\"\"Extract a simplified JSON type and default from a trait.\"\"\"\n",
    "    json_type, item_type = trait_to_json_type(trait)\n",
    "\n",
    "    default_value = trait.default_value\n",
    "    if hasattr(trait, \"default_args\"):\n",
    "        default_value = trait.default_args\n",
    "        if default_value:\n",
    "            default_value = default_value[0]\n",
    "\n",
    "    try:\n",
    "        default_value_text = f\"{json.dumps(default_value)}\"\n",
    "    except TypeError:\n",
    "        print(default_value)\n",
    "        default_value_text = None\n",
    "    return [\n",
    "        json_type or \"\",\n",
    "        item_type or \"\",\n",
    "        (\"\" if default_value_text is None else f\"`{default_value_text}`\"),\n",
    "    ]"
   ]
  },
  {
   "cell_type": "code",
   "execution_count": null,
   "id": "5d07f2a9-0e84-4942-a6b5-89ba7bacddcc",
   "metadata": {
    "editable": true,
    "slideshow": {
     "slide_type": ""
    },
    "tags": [
     "remove-cell"
    ]
   },
   "outputs": [],
   "source": [
    "def config_table(importable: str) -> str:\n",
    "    \"\"\"Generate a directive for a filtered configurable.\"\"\"\n",
    "    current = __import__(importable.rsplit(\".\", 1)[0])\n",
    "    for bit in importable.split(\".\")[1:]:\n",
    "        current = getattr(current, bit)\n",
    "    if not issubclass(current, Configurable):\n",
    "        msg = f\"{importable} is not a Configurable\"\n",
    "        raise ValueError(msg)\n",
    "    mod = importable.split(\".\")[0]\n",
    "    pkg = mod.replace(\"_\", \"-\")\n",
    "    lines = [\n",
    "        f\"### {current.__name__}\",\n",
    "        \"\",\n",
    "        f\"> See full [`{current.__name__}` API](../api/{pkg}.html#{current.__name__})\",\n",
    "        \"\",\n",
    "        \"| name | help | type | [items] | default |\",\n",
    "        \"|:-|:-|:-:|:-:|:-|\",\n",
    "    ]\n",
    "    traits = current._traits  # noqa: SLF001\n",
    "    configurables = {\n",
    "        trait_name: trait\n",
    "        for trait_name, trait in sorted(traits.items())\n",
    "        if trait.metadata.get(\"config\")\n",
    "    }\n",
    "    for trait_name, trait in configurables.items():\n",
    "        line = [\n",
    "            f\"`{trait_name}`\",\n",
    "            f\"{trait.help}\",\n",
    "            *trait_to_json_type_and_default(trait),\n",
    "        ]\n",
    "        lines += [f\"\"\"| {\" | \".join(line)} |\"\"\"]\n",
    "    return \"\\n\".join(lines)"
   ]
  },
  {
   "cell_type": "markdown",
   "id": "1bfc9424-6557-48d4-90ea-f25d56305b70",
   "metadata": {
    "editable": true,
    "slideshow": {
     "slide_type": ""
    },
    "tags": []
   },
   "source": [
    "## Addons"
   ]
  },
  {
   "cell_type": "markdown",
   "id": "311382e4-7bdb-4cc5-9257-2f7332b823c2",
   "metadata": {
    "editable": true,
    "slideshow": {
     "slide_type": ""
    },
    "tags": []
   },
   "source": [
    "The `PyodideLockAddon` provides the main tasks for working with lockfile requirements."
   ]
  },
  {
   "cell_type": "code",
   "execution_count": null,
   "id": "ab16cc73-a4ef-484d-ab70-529b124b08cc",
   "metadata": {
    "editable": true,
    "slideshow": {
     "slide_type": ""
    },
    "tags": [
     "remove-input"
    ]
   },
   "outputs": [],
   "source": [
    "if __name__ == \"__main__\":\n",
    "    display(\n",
    "        markdown(config_table(\"jupyterlite_pyodide_lock.addons.lock.PyodideLockAddon\"))\n",
    "    )"
   ]
  },
  {
   "cell_type": "markdown",
   "id": "746e4e85-4974-432d-8538-97d24537ad74",
   "metadata": {},
   "source": [
    "The `PyodideLockOfflineAddon` provides optional fetching and pruning of a subset of packages in a `pyodide` distribution, including any required local packages and their dependencies."
   ]
  },
  {
   "cell_type": "code",
   "execution_count": null,
   "id": "7064d898-cab0-47ef-81c3-366b4539212d",
   "metadata": {
    "editable": true,
    "slideshow": {
     "slide_type": ""
    },
    "tags": [
     "remove-input"
    ]
   },
   "outputs": [],
   "source": [
    "if __name__ == \"__main__\":\n",
    "    display(\n",
    "        markdown(\n",
    "            config_table(\n",
    "                \"jupyterlite_pyodide_lock.addons.offline.PyodideLockOfflineAddon\"\n",
    "            )\n",
    "        )\n",
    "    )"
   ]
  },
  {
   "cell_type": "markdown",
   "id": "1cee7c1e-0656-4940-a5e0-508906a90128",
   "metadata": {
    "editable": true,
    "slideshow": {
     "slide_type": ""
    },
    "tags": []
   },
   "source": [
    "## Lockers\n",
    "\n",
    "The `BaseLocker` subclasses provides a browser with a minimal `pyodide` environment (_not_ JupyterLite) in which to run `micropip.freeze`. \n",
    "\n",
    "> **🧩 Locker Plugins**\n",
    ">\n",
    "> [Optional lockers](../index.md) are provided by other `jupyterlite-pyodide-lock-` packages"
   ]
  },
  {
   "cell_type": "code",
   "execution_count": null,
   "id": "98237d4f-bf25-43ea-a0bd-9fc86ab32e06",
   "metadata": {
    "editable": true,
    "slideshow": {
     "slide_type": ""
    },
    "tags": [
     "remove-input"
    ]
   },
   "outputs": [],
   "source": [
    "if __name__ == \"__main__\":\n",
    "    display(\n",
    "        markdown(config_table(\"jupyterlite_pyodide_lock.lockers.browser.BrowserLocker\"))\n",
    "    )"
   ]
  },
  {
   "cell_type": "markdown",
   "id": "01659494-7d6d-4c75-882b-0640bb1e9732",
   "metadata": {},
   "source": [
    "## Appendices"
   ]
  },
  {
   "cell_type": "markdown",
   "id": "f113d172-86d8-4e4d-846a-18b11f6bdf62",
   "metadata": {},
   "source": [
    "### Chromium CI\n",
    "\n",
    "In some continuous integration settings such as GitHub Actions, `chromium`-like browsers may fail for mysterious reasons."
   ]
  },
  {
   "cell_type": "markdown",
   "id": "f8817d65-8e76-4ba4-9f68-cb0749d56455",
   "metadata": {},
   "source": [
    "#### Chromium Logs\n",
    "\n",
    "A first step is gathering better logs:\n",
    "\n",
    "```json\n",
    "{\n",
    "  \"BrowserLocker\": {\n",
    "    \"extra_browser_argv\": [\"--enable-logging=stderr\", \"--v=1\"]\n",
    "  }\n",
    "}\n",
    "```\n",
    "\n",
    "This generates an _enormous_ amount of output, but will help at least find what to search for in the _thousands_ of `chromium` flags."
   ]
  },
  {
   "cell_type": "markdown",
   "id": "4bee84e9-a61d-4328-b699-ac34f6b4cc46",
   "metadata": {},
   "source": [
    "#### Chromium in Containers\n",
    "\n",
    "Some container-based builds are fixed by:\n",
    "\n",
    "```json\n",
    "{\n",
    "  \"BrowserLocker\": {\n",
    "    \"extra_browser_argv\": [\"--disable-dev-shm-usage\", \"--disable-gpu\"]\n",
    "  }\n",
    "}\n",
    "```"
   ]
  },
  {
   "cell_type": "markdown",
   "id": "35bfcd6c-a82e-4093-96af-bf85b82374b8",
   "metadata": {},
   "source": [
    "#### Chromium Sandbox\n",
    "\n",
    "A (sometimes unavoidable) step is to disable the browser sandbox altogether:\n",
    "\n",
    "```json\n",
    "{\n",
    "  \"BrowserLocker\": {\n",
    "    \"extra_browser_argv\": [\"--no-sandbox\"]\n",
    "  }\n",
    "}\n",
    "```"
   ]
  }
 ],
 "metadata": {
  "kernelspec": {
   "display_name": "Python 3 (ipykernel)",
   "language": "python",
   "name": "python3"
  },
  "language_info": {
   "codemirror_mode": {
    "name": "ipython",
    "version": 3
   },
   "file_extension": ".py",
   "mimetype": "text/x-python",
   "name": "python",
   "nbconvert_exporter": "python",
   "pygments_lexer": "ipython3",
   "version": "3.13.1"
  }
 },
 "nbformat": 4,
 "nbformat_minor": 5
}
