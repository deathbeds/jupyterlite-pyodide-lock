{
 "cells": [
  {
   "cell_type": "markdown",
   "id": "6af7f0b0-3d51-45c0-a2eb-ab54bfec4d52",
   "metadata": {
    "editable": true,
    "slideshow": {
     "slide_type": ""
    },
    "tags": []
   },
   "source": [
    "# `jupyterlite-pyodide-lock-webdriver`"
   ]
  },
  {
   "cell_type": "code",
   "execution_count": null,
   "id": "f914661d-afd4-469c-98c8-bf52b7151a9b",
   "metadata": {
    "editable": true,
    "slideshow": {
     "slide_type": ""
    },
    "tags": [
     "remove-cell"
    ]
   },
   "outputs": [],
   "source": [
    "from importnb import Notebook\n",
    "\n",
    "with Notebook():\n",
    "    from core import config_table, markdown"
   ]
  },
  {
   "cell_type": "markdown",
   "id": "9f0fc0cc-d333-40d8-a61b-10ecdb65b106",
   "metadata": {
    "editable": true,
    "slideshow": {
     "slide_type": ""
    },
    "tags": []
   },
   "source": [
    "## Lockers\n",
    "\n",
    "The `WebDriverLocker` uses `selenium` to start and stop a browser."
   ]
  },
  {
   "cell_type": "code",
   "execution_count": null,
   "id": "5bcee39f-638e-4947-94d3-4d7c5e0cf777",
   "metadata": {
    "editable": true,
    "slideshow": {
     "slide_type": ""
    },
    "tags": [
     "remove-input"
    ]
   },
   "outputs": [],
   "source": [
    "if __name__ == \"__main__\":\n",
    "    display(\n",
    "        markdown(\n",
    "            config_table(\"jupyterlite_pyodide_lock_webdriver.locker.WebDriverLocker\")\n",
    "        )\n",
    "    )"
   ]
  }
 ],
 "metadata": {
  "kernelspec": {
   "display_name": "Python 3 (ipykernel)",
   "language": "python",
   "name": "python3"
  },
  "language_info": {
   "codemirror_mode": {
    "name": "ipython",
    "version": 3
   },
   "file_extension": ".py",
   "mimetype": "text/x-python",
   "name": "python",
   "nbconvert_exporter": "python",
   "pygments_lexer": "ipython3",
   "version": "3.12.3"
  }
 },
 "nbformat": 4,
 "nbformat_minor": 5
}
