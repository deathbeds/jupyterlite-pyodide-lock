{
 "cells": [
  {
   "cell_type": "markdown",
   "id": "5bd79b79-8c39-4a61-8fdf-c6fae9319e47",
   "metadata": {},
   "source": [
    "```{include} ../CONTRIBUTING.md\n",
    "\n",
    "```"
   ]
  },
  {
   "cell_type": "markdown",
   "id": "eb5ba1fa-848d-4124-ba6a-a307b45ddfa9",
   "metadata": {
    "editable": true,
    "slideshow": {
     "slide_type": ""
    },
    "tags": []
   },
   "source": [
    "## Appendix: `pixi` tasks"
   ]
  },
  {
   "cell_type": "code",
   "execution_count": null,
   "id": "6694f388-2ece-43bb-bea0-33fcc3248fe6",
   "metadata": {
    "editable": true,
    "slideshow": {
     "slide_type": ""
    },
    "tags": [
     "remove-input"
    ]
   },
   "outputs": [],
   "source": [
    "lines = !pixi task list\n",
    "print(\"\\n\".join(lines[3:]))"
   ]
  }
 ],
 "metadata": {
  "kernelspec": {
   "display_name": "Python 3 (ipykernel)",
   "language": "python",
   "name": "python3"
  },
  "language_info": {
   "codemirror_mode": {
    "name": "ipython",
    "version": 3
   },
   "file_extension": ".py",
   "mimetype": "text/x-python",
   "name": "python",
   "nbconvert_exporter": "python",
   "pygments_lexer": "ipython3",
   "version": "3.12.8"
  }
 },
 "nbformat": 4,
 "nbformat_minor": 5
}
